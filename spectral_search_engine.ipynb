{
  "nbformat": 4,
  "nbformat_minor": 0,
  "metadata": {
    "colab": {
      "provenance": [],
      "authorship_tag": "ABX9TyO3DQtiPoz52z8VFroH8kC5",
      "include_colab_link": true
    },
    "kernelspec": {
      "name": "python3",
      "display_name": "Python 3"
    },
    "language_info": {
      "name": "python"
    }
  },
  "cells": [
    {
      "cell_type": "markdown",
      "metadata": {
        "id": "view-in-github",
        "colab_type": "text"
      },
      "source": [
        "<a href=\"https://colab.research.google.com/github/benjaminnigjeh/automated_data_mining/blob/main/spectral_search_engine.ipynb\" target=\"_parent\"><img src=\"https://colab.research.google.com/assets/colab-badge.svg\" alt=\"Open In Colab\"/></a>"
      ]
    },
    {
      "cell_type": "markdown",
      "source": [
        "#Install Fisher-py Module"
      ],
      "metadata": {
        "id": "Z40iqEnGPE9Q"
      }
    },
    {
      "cell_type": "code",
      "source": [
        "!apt-get update\n",
        "!apt-get install -y mono-complete\n",
        "!pip install fisher-py"
      ],
      "metadata": {
        "id": "xtzV5Y1dO63c"
      },
      "execution_count": null,
      "outputs": []
    },
    {
      "cell_type": "markdown",
      "source": [
        "#Install external libraries"
      ],
      "metadata": {
        "id": "-BmG1FjFPLor"
      }
    },
    {
      "cell_type": "code",
      "source": [
        "from fisher_py.data.business import Scan\n",
        "from fisher_py import RawFile\n",
        "from sklearn.metrics.pairwise import cosine_similarity\n",
        "import numpy as np\n",
        "import pandas as pd\n",
        "import pickle\n",
        "import os\n",
        "import re"
      ],
      "metadata": {
        "id": "FoucFWqqO_Kb"
      },
      "execution_count": null,
      "outputs": []
    },
    {
      "cell_type": "markdown",
      "source": [
        "# Three tier search engine"
      ],
      "metadata": {
        "id": "RhPrk0z7uENu"
      }
    },
    {
      "cell_type": "code",
      "execution_count": 2,
      "metadata": {
        "id": "GZJYDVxRNQWK"
      },
      "outputs": [],
      "source": [
        "def engine(cast1, cast2):\n",
        "    X = [cast1, cast2]\n",
        "    return(round(cosine_similarity(X)[1][0], 2))\n",
        "\n",
        "def matching(sample, databank, retention_window = 2, first_tier = 0.9, second_tier = 0.7, third_tier = 0.5):\n",
        "    similarity = [0]*len(sample[\"cast spectra\"])\n",
        "    match_scan = [0]*len(sample[\"cast spectra\"])\n",
        "    match_sample = [0]*len(sample[\"cast spectra\"])\n",
        "    match_tier = [0]*len(sample[\"cast spectra\"])\n",
        "    ided_pfr = ['NaN']*len(sample[\"cast spectra\"])\n",
        "    ided_acc = ['NaN']*len(sample[\"cast spectra\"])\n",
        "    ided_uni = ['NaN']*len(sample[\"cast spectra\"])\n",
        "    uni_list = []\n",
        "    retention = [0]*20\n",
        "    mid = 0\n",
        "    ret_index = 0\n",
        "\n",
        "    for i in range(0, len(sample[\"cast spectra\"])):\n",
        "        for j in range(0, len(databank[\"cast spectra\"])):\n",
        "            if sample[\"m/z\"][i] - 1 < databank[\"m/z\"][j] < sample[\"m/z\"][i] + 1:\n",
        "                if engine(sample[\"cast spectra\"][i], databank[\"cast spectra\"][j]) > similarity[i]:\n",
        "                    similarity[i] = engine(sample[\"cast spectra\"][i], databank[\"cast spectra\"][j])\n",
        "                    match_scan[i] = databank[\"scan\"][j]\n",
        "                    match_sample[i] = databank['sample name'][j]\n",
        "                    ret_index = j\n",
        "                    if similarity[i] > first_tier:\n",
        "                        match_tier[i] = 1\n",
        "                        ided_pfr[i] = databank['PFR'][j]\n",
        "                        ided_acc[i] = databank['Accession'][j]\n",
        "                        ided_uni[i] = databank['Uniprot ID'][j]\n",
        "                        uni_list.append(ided_uni[i])\n",
        "                        retention.append(databank[\"retntion time\"][ret_index])\n",
        "                        mid = sum(retention[-20:]) / 20\n",
        "        if similarity[i] < first_tier:\n",
        "            similarity[i] = 0\n",
        "            for k in [index for index, num in enumerate(databank[\"retntion time\"]) if mid + retention_window > num > mid - retention_window]:\n",
        "                if sample[\"m/z\"][i] -1 < databank[\"m/z\"][k] < sample[\"m/z\"][i] + 1:\n",
        "                    if engine(sample[\"cast spectra\"][i], databank[\"cast spectra\"][k]) > similarity[i]:\n",
        "                        similarity[i] = engine(sample[\"cast spectra\"][i], databank[\"cast spectra\"][k])\n",
        "                        if similarity[i] > third_tier:\n",
        "                          if databank['Uniprot ID'][k] in uni_list:\n",
        "                            match_tier[i] = 3\n",
        "                            match_scan[i] = databank[\"scan\"][k]\n",
        "                            match_sample[i] = databank['sample name'][k]\n",
        "                            ided_pfr[i] = databank['PFR'][k]\n",
        "                            ided_acc[i] = databank['Accession'][k]\n",
        "                            ided_uni[i] = databank['Uniprot ID'][k]\n",
        "                        if similarity[i] > second_tier:\n",
        "                          match_tier[i] = 2\n",
        "                          match_scan[i] = databank[\"scan\"][k]\n",
        "                          match_sample[i] = databank['sample name'][k]\n",
        "                          ided_pfr[i] = databank['PFR'][k]\n",
        "                          ided_acc[i] = databank['Accession'][k]\n",
        "                          ided_uni[i] = databank['Uniprot ID'][k]\n",
        "\n",
        "    sample['matched_sample'] = match_sample\n",
        "    sample['matched_scan'] =  match_scan\n",
        "    sample['matched_similarity'] = similarity\n",
        "    sample['matched_tier'] = match_tier\n",
        "    sample['matched_PFR'] = ided_pfr\n",
        "    sample['matched_Accession'] = ided_acc\n",
        "    sample['matched_UniprotID'] = ided_uni\n",
        "    return()"
      ]
    }
  ]
}